{
 "cells": [
  {
   "cell_type": "code",
   "execution_count": 1,
   "id": "ce82eb2b",
   "metadata": {},
   "outputs": [],
   "source": [
    "import torch\n",
    "\n",
    "torch.manual_seed(42)\n",
    "\n",
    "device_id = 2\n",
    "using = 0.4\n",
    "device = torch.device(f\"cuda:{device_id}\" if torch.cuda.is_available() else \"cpu\")\n",
    "\n",
    "# torch.cuda.set_per_process_memory_fraction(using, device_id)\n",
    "# # GPU 메모리 사용 비율 설정\n",
    "# torch.cuda.empty_cache()\n",
    "# # GPU 캐시 비우기\n",
    "# # 총 메모리 용량 계산\n",
    "# total_memory = torch.cuda.get_device_properties(device_id).total_memory\n",
    "# # GPU 메모리의 49.9% 사용\n",
    "# tmp_tensor = torch.empty(int(total_memory * (using-0.001)), dtype=torch.int8, device=device)\n",
    "# print(f'use:{tmp_tensor}')\n",
    "\n",
    "import torchvision.transforms as transforms\n",
    "from torchvision.datasets import ImageFolder\n",
    "from torch.utils.data.sampler import WeightedRandomSampler"
   ]
  },
  {
   "cell_type": "code",
   "execution_count": 2,
   "id": "d8a6aca7",
   "metadata": {},
   "outputs": [],
   "source": [
    "from LoadData import load_data, train_model"
   ]
  },
  {
   "cell_type": "code",
   "execution_count": 3,
   "id": "5313f491",
   "metadata": {},
   "outputs": [
    {
     "name": "stdout",
     "output_type": "stream",
     "text": [
      "3379\n",
      "Class: A, Count: 1401\n",
      "Class: B, Count: 739\n",
      "Class: C, Count: 695\n",
      "Class: F, Count: 544\n",
      "846\n",
      "Class: A, Count: 351\n",
      "Class: B, Count: 185\n",
      "Class: C, Count: 175\n",
      "Class: F, Count: 135\n"
     ]
    }
   ],
   "source": [
    "dataloaders_dict = load_data()"
   ]
  },
  {
   "cell_type": "code",
   "execution_count": 4,
   "id": "cbb699a0",
   "metadata": {},
   "outputs": [
    {
     "data": {
      "text/plain": [
       "(3384, 848)"
      ]
     },
     "execution_count": 4,
     "metadata": {},
     "output_type": "execute_result"
    }
   ],
   "source": [
    "len(dataloaders_dict['train'])*8, len(dataloaders_dict['val'])*8"
   ]
  },
  {
   "cell_type": "code",
   "execution_count": 5,
   "id": "7c2944ae",
   "metadata": {},
   "outputs": [
    {
     "name": "stdout",
     "output_type": "stream",
     "text": [
      "A  A  A  C  B  F  F  A\n"
     ]
    },
    {
     "data": {
      "image/png": "[encoded data removed]",
      "text/plain": [
       "<Figure size 640x480 with 1 Axes>"
      ]
     },
     "metadata": {},
     "output_type": "display_data"
    }
   ],
   "source": [
    "import matplotlib.pyplot as plt\n",
    "import numpy as np\n",
    "import torchvision\n",
    "\n",
    "# 인라인 이미지 표시를 위한 헬퍼 함수\n",
    "def matplotlib_imshow(img, one_channel=False):\n",
    "    if one_channel:\n",
    "        img = img.mean(dim=0)\n",
    "    img = img / 2 + 0.5     # 정규화 해제\n",
    "    npimg = img.numpy()\n",
    "    if one_channel:\n",
    "        plt.imshow(npimg, cmap=\"Greys\")\n",
    "    else:\n",
    "        plt.imshow(np.transpose(npimg, (1, 2, 0)))\n",
    "\n",
    "classes = ('A', 'B', 'C', 'F')\n",
    "        \n",
    "dataiter = iter(dataloaders_dict['train'])\n",
    "images, labels = next(dataiter)\n",
    "\n",
    "# 이미지를 격자로 생성하고 표시\n",
    "img_grid = torchvision.utils.make_grid(images)\n",
    "matplotlib_imshow(img_grid, one_channel=True)\n",
    "print('  '.join(classes[labels[j]] for j in range(8)))"
   ]
  },
  {
   "cell_type": "code",
   "execution_count": 6,
   "id": "4e12499d",
   "metadata": {},
   "outputs": [],
   "source": [
    "from torchvision import models\n",
    "import torch.nn as nn\n",
    "import torch.optim as optim\n",
    "from tqdm import tqdm"
   ]
  },
  {
   "cell_type": "code",
   "execution_count": 7,
   "id": "01107ee5",
   "metadata": {},
   "outputs": [],
   "source": [
    "# def train_model(net , dataloaders_dict, criterion, optimizer, num_epochs, save_model='model.pth'):\n",
    "#     # 에폭\n",
    "#     result = {'train loss':[], 'val loss':[], 'train acc':[], 'val acc':[]}\n",
    "#     max_acc = 0.0\n",
    "#     for epoch in range(num_epochs): \n",
    "#         print(f'Epoch {epoch + 1}/ {num_epochs}')\n",
    "#         print('*' * 30)\n",
    "        \n",
    "#         # 훈련 모드로 설정\n",
    "#         # net.train()\n",
    "        \n",
    "#         # 에폭 별 학습 및 검증 루프\n",
    "#         for phase in ['train', 'val']:\n",
    "#             if phase == 'train':\n",
    "#                 net.train() # 훈련 모드\n",
    "#             else:\n",
    "#                 net.eval() # 검증 모드\n",
    "                \n",
    "#             epoch_loss = 0.0\n",
    "#             epoch_corrects = 0\n",
    "            \n",
    "#             # 학습 하지 않을 시 검증성능 확인을 위해 epoch= 0의 훈련 생략\n",
    "#             if (epoch==0) and (phase == 'train'):\n",
    "#                 continue\n",
    "#             # 데이터 로더로 미니 배치 꺼내는 루프\n",
    "#             for inputs, labels in tqdm(dataloaders_dict[phase]):\n",
    "#                 inputs = inputs.to(device)\n",
    "#                 labels = labels.to(device)\n",
    "                \n",
    "#                 # 옵티마이저 초기화\n",
    "#                 optimizer.zero_grad()\n",
    "                \n",
    "#                 # 순전파 계산\n",
    "#                 with torch.set_grad_enabled(phase == 'train'):\n",
    "#                     outputs = net(inputs)\n",
    "#                     loss = criterion(outputs, labels) # 손실 계산\n",
    "#                     _, preds = torch.max(outputs, 1) # 라벨 예측\n",
    "                    \n",
    "                    \n",
    "#                     # 훈련 시 오차 역전파\n",
    "#                     if phase == 'train':\n",
    "#                         loss.backward()\n",
    "#                         optimizer.step()\n",
    "                        \n",
    "#                     # 반복 결과 계산, 손실 합계 갱신\n",
    "#                     epoch_loss += loss.item() * inputs.size(0)\n",
    "#                     # 정답 수의 합계 갱신\n",
    "#                     epoch_corrects += torch.sum(preds == labels.data)\n",
    "                    \n",
    "#             # 에폭 당 손실과 정답률 표시\n",
    "#             epoch_loss = epoch_loss / len(dataloaders_dict[phase].dataset)\n",
    "#             # epoch_loss_list.append(epoch_loss)\n",
    "#             result[phase+' loss'].append(epoch_loss)\n",
    "#             epoch_acc = epoch_corrects.double() / len(dataloaders_dict[phase].dataset)\n",
    "#             # epoch_acc_list.append(epoch_acc)\n",
    "#             result[phase+' acc'].append(epoch_acc)\n",
    "#             if phase == 'val' and save_model is not None:\n",
    "#                 if epoch_acc>max_acc:\n",
    "#                     max_acc = epoch_acc\n",
    "#                     torch.save(net, save_model)\n",
    "#                     print(f'max val acc:{epoch_acc}, save in {save_model}')\n",
    "\n",
    "#             print(f'{phase} Loss {epoch_loss:.4f} Acc : {epoch_acc:.4f}')\n",
    "#     return result"
   ]
  },
  {
   "cell_type": "code",
   "execution_count": 42,
   "id": "9870ab4b",
   "metadata": {
    "scrolled": true
   },
   "outputs": [
    {
     "name": "stdout",
     "output_type": "stream",
     "text": [
      "Epoch 1/ 50\n",
      "******************************\n"
     ]
    },
    {
     "name": "stderr",
     "output_type": "stream",
     "text": [
      "100%|██████████| 106/106 [00:03<00:00, 29.52it/s]\n"
     ]
    },
    {
     "name": "stdout",
     "output_type": "stream",
     "text": [
      "max val acc:0.23522458628841608, save in ./Model/vgg16.pth\n",
      "val Loss 1.4278 Acc : 0.2352\n",
      "Epoch 2/ 50\n",
      "******************************\n"
     ]
    },
    {
     "name": "stderr",
     "output_type": "stream",
     "text": [
      "100%|██████████| 423/423 [00:22<00:00, 19.13it/s]\n"
     ]
    },
    {
     "name": "stdout",
     "output_type": "stream",
     "text": [
      "train Loss 1.3528 Acc : 0.3214\n"
     ]
    },
    {
     "name": "stderr",
     "output_type": "stream",
     "text": [
      "100%|██████████| 106/106 [00:03<00:00, 29.57it/s]\n"
     ]
    },
    {
     "name": "stdout",
     "output_type": "stream",
     "text": [
      "max val acc:0.3747044917257683, save in ./Model/vgg16.pth\n",
      "val Loss 1.2928 Acc : 0.3747\n",
      "Epoch 3/ 50\n",
      "******************************\n"
     ]
    },
    {
     "name": "stderr",
     "output_type": "stream",
     "text": [
      "100%|██████████| 423/423 [00:21<00:00, 19.26it/s]\n"
     ]
    },
    {
     "name": "stdout",
     "output_type": "stream",
     "text": [
      "train Loss 1.2549 Acc : 0.4108\n"
     ]
    },
    {
     "name": "stderr",
     "output_type": "stream",
     "text": [
      "100%|██████████| 106/106 [00:03<00:00, 28.40it/s]\n"
     ]
    },
    {
     "name": "stdout",
     "output_type": "stream",
     "text": [
      "max val acc:0.4373522458628841, save in ./Model/vgg16.pth\n",
      "val Loss 1.2008 Acc : 0.4374\n",
      "Epoch 4/ 50\n",
      "******************************\n"
     ]
    },
    {
     "name": "stderr",
     "output_type": "stream",
     "text": [
      "100%|██████████| 423/423 [00:20<00:00, 20.65it/s]\n"
     ]
    },
    {
     "name": "stdout",
     "output_type": "stream",
     "text": [
      "train Loss 1.0265 Acc : 0.5419\n"
     ]
    },
    {
     "name": "stderr",
     "output_type": "stream",
     "text": [
      "100%|██████████| 106/106 [00:03<00:00, 29.96it/s]\n"
     ]
    },
    {
     "name": "stdout",
     "output_type": "stream",
     "text": [
      "max val acc:0.6217494089834515, save in ./Model/vgg16.pth\n",
      "val Loss 0.8730 Acc : 0.6217\n",
      "Epoch 5/ 50\n",
      "******************************\n"
     ]
    },
    {
     "name": "stderr",
     "output_type": "stream",
     "text": [
      "100%|██████████| 423/423 [00:20<00:00, 20.15it/s]\n"
     ]
    },
    {
     "name": "stdout",
     "output_type": "stream",
     "text": [
      "train Loss 0.7550 Acc : 0.6866\n"
     ]
    },
    {
     "name": "stderr",
     "output_type": "stream",
     "text": [
      "100%|██████████| 106/106 [00:03<00:00, 28.83it/s]\n"
     ]
    },
    {
     "name": "stdout",
     "output_type": "stream",
     "text": [
      "max val acc:0.6690307328605201, save in ./Model/vgg16.pth\n",
      "val Loss 0.7249 Acc : 0.6690\n",
      "Epoch 6/ 50\n",
      "******************************\n"
     ]
    },
    {
     "name": "stderr",
     "output_type": "stream",
     "text": [
      "100%|██████████| 423/423 [00:23<00:00, 18.29it/s]\n"
     ]
    },
    {
     "name": "stdout",
     "output_type": "stream",
     "text": [
      "train Loss 0.6065 Acc : 0.7535\n"
     ]
    },
    {
     "name": "stderr",
     "output_type": "stream",
     "text": [
      "100%|██████████| 106/106 [00:03<00:00, 30.33it/s]\n"
     ]
    },
    {
     "name": "stdout",
     "output_type": "stream",
     "text": [
      "max val acc:0.7127659574468085, save in ./Model/vgg16.pth\n",
      "val Loss 0.6770 Acc : 0.7128\n",
      "Epoch 7/ 50\n",
      "******************************\n"
     ]
    },
    {
     "name": "stderr",
     "output_type": "stream",
     "text": [
      "100%|██████████| 423/423 [00:21<00:00, 19.86it/s]\n"
     ]
    },
    {
     "name": "stdout",
     "output_type": "stream",
     "text": [
      "train Loss 0.5013 Acc : 0.8082\n"
     ]
    },
    {
     "name": "stderr",
     "output_type": "stream",
     "text": [
      "100%|██████████| 106/106 [00:03<00:00, 29.58it/s]\n"
     ]
    },
    {
     "name": "stdout",
     "output_type": "stream",
     "text": [
      "max val acc:0.7907801418439716, save in ./Model/vgg16.pth\n",
      "val Loss 0.5448 Acc : 0.7908\n",
      "Epoch 8/ 50\n",
      "******************************\n"
     ]
    },
    {
     "name": "stderr",
     "output_type": "stream",
     "text": [
      "100%|██████████| 423/423 [00:21<00:00, 19.85it/s]\n"
     ]
    },
    {
     "name": "stdout",
     "output_type": "stream",
     "text": [
      "train Loss 0.3701 Acc : 0.8612\n"
     ]
    },
    {
     "name": "stderr",
     "output_type": "stream",
     "text": [
      "100%|██████████| 106/106 [00:04<00:00, 25.30it/s]\n"
     ]
    },
    {
     "name": "stdout",
     "output_type": "stream",
     "text": [
      "max val acc:0.8144208037825059, save in ./Model/vgg16.pth\n",
      "val Loss 0.4901 Acc : 0.8144\n",
      "Epoch 9/ 50\n",
      "******************************\n"
     ]
    },
    {
     "name": "stderr",
     "output_type": "stream",
     "text": [
      "100%|██████████| 423/423 [00:22<00:00, 18.86it/s]\n"
     ]
    },
    {
     "name": "stdout",
     "output_type": "stream",
     "text": [
      "train Loss 0.3491 Acc : 0.8837\n"
     ]
    },
    {
     "name": "stderr",
     "output_type": "stream",
     "text": [
      "100%|██████████| 106/106 [00:04<00:00, 26.24it/s]\n"
     ]
    },
    {
     "name": "stdout",
     "output_type": "stream",
     "text": [
      "val Loss 0.5233 Acc : 0.8109\n",
      "Epoch 10/ 50\n",
      "******************************\n"
     ]
    },
    {
     "name": "stderr",
     "output_type": "stream",
     "text": [
      "100%|██████████| 423/423 [00:22<00:00, 19.22it/s]\n"
     ]
    },
    {
     "name": "stdout",
     "output_type": "stream",
     "text": [
      "train Loss 0.2936 Acc : 0.8938\n"
     ]
    },
    {
     "name": "stderr",
     "output_type": "stream",
     "text": [
      "100%|██████████| 106/106 [00:03<00:00, 30.08it/s]\n"
     ]
    },
    {
     "name": "stdout",
     "output_type": "stream",
     "text": [
      "max val acc:0.817966903073286, save in ./Model/vgg16.pth\n",
      "val Loss 0.5874 Acc : 0.8180\n",
      "Epoch 11/ 50\n",
      "******************************\n"
     ]
    },
    {
     "name": "stderr",
     "output_type": "stream",
     "text": [
      "100%|██████████| 423/423 [00:19<00:00, 21.22it/s]\n"
     ]
    },
    {
     "name": "stdout",
     "output_type": "stream",
     "text": [
      "train Loss 0.2315 Acc : 0.9183\n"
     ]
    },
    {
     "name": "stderr",
     "output_type": "stream",
     "text": [
      "100%|██████████| 106/106 [00:03<00:00, 30.10it/s]\n"
     ]
    },
    {
     "name": "stdout",
     "output_type": "stream",
     "text": [
      "val Loss 0.8202 Acc : 0.7305\n",
      "Epoch 12/ 50\n",
      "******************************\n"
     ]
    },
    {
     "name": "stderr",
     "output_type": "stream",
     "text": [
      "100%|██████████| 423/423 [00:19<00:00, 21.23it/s]\n"
     ]
    },
    {
     "name": "stdout",
     "output_type": "stream",
     "text": [
      "train Loss 0.1775 Acc : 0.9373\n"
     ]
    },
    {
     "name": "stderr",
     "output_type": "stream",
     "text": [
      "100%|██████████| 106/106 [00:03<00:00, 30.37it/s]\n"
     ]
    },
    {
     "name": "stdout",
     "output_type": "stream",
     "text": [
      "val Loss 0.5249 Acc : 0.8109\n",
      "Epoch 13/ 50\n",
      "******************************\n"
     ]
    },
    {
     "name": "stderr",
     "output_type": "stream",
     "text": [
      "100%|██████████| 423/423 [00:21<00:00, 19.82it/s]\n"
     ]
    },
    {
     "name": "stdout",
     "output_type": "stream",
     "text": [
      "train Loss 0.1825 Acc : 0.9358\n"
     ]
    },
    {
     "name": "stderr",
     "output_type": "stream",
     "text": [
      "100%|██████████| 106/106 [00:03<00:00, 29.53it/s]\n"
     ]
    },
    {
     "name": "stdout",
     "output_type": "stream",
     "text": [
      "max val acc:0.8486997635933806, save in ./Model/vgg16.pth\n",
      "val Loss 0.4338 Acc : 0.8487\n",
      "Epoch 14/ 50\n",
      "******************************\n"
     ]
    },
    {
     "name": "stderr",
     "output_type": "stream",
     "text": [
      "100%|██████████| 423/423 [00:20<00:00, 20.61it/s]\n"
     ]
    },
    {
     "name": "stdout",
     "output_type": "stream",
     "text": [
      "train Loss 0.1899 Acc : 0.9334\n"
     ]
    },
    {
     "name": "stderr",
     "output_type": "stream",
     "text": [
      "100%|██████████| 106/106 [00:03<00:00, 30.37it/s]\n"
     ]
    },
    {
     "name": "stdout",
     "output_type": "stream",
     "text": [
      "max val acc:0.8569739952718676, save in ./Model/vgg16.pth\n",
      "val Loss 0.4223 Acc : 0.8570\n",
      "Epoch 15/ 50\n",
      "******************************\n"
     ]
    },
    {
     "name": "stderr",
     "output_type": "stream",
     "text": [
      "100%|██████████| 423/423 [00:24<00:00, 17.38it/s]\n"
     ]
    },
    {
     "name": "stdout",
     "output_type": "stream",
     "text": [
      "train Loss 0.1309 Acc : 0.9535\n"
     ]
    },
    {
     "name": "stderr",
     "output_type": "stream",
     "text": [
      "100%|██████████| 106/106 [00:05<00:00, 20.01it/s]\n"
     ]
    },
    {
     "name": "stdout",
     "output_type": "stream",
     "text": [
      "max val acc:0.8983451536643026, save in ./Model/vgg16.pth\n",
      "val Loss 0.3620 Acc : 0.8983\n",
      "Epoch 16/ 50\n",
      "******************************\n"
     ]
    },
    {
     "name": "stderr",
     "output_type": "stream",
     "text": [
      "100%|██████████| 423/423 [00:26<00:00, 16.27it/s]\n"
     ]
    },
    {
     "name": "stdout",
     "output_type": "stream",
     "text": [
      "train Loss 0.1041 Acc : 0.9609\n"
     ]
    },
    {
     "name": "stderr",
     "output_type": "stream",
     "text": [
      "100%|██████████| 106/106 [00:04<00:00, 21.25it/s]\n"
     ]
    },
    {
     "name": "stdout",
     "output_type": "stream",
     "text": [
      "val Loss 0.4526 Acc : 0.8641\n",
      "Epoch 17/ 50\n",
      "******************************\n"
     ]
    },
    {
     "name": "stderr",
     "output_type": "stream",
     "text": [
      "100%|██████████| 423/423 [00:27<00:00, 15.14it/s]\n"
     ]
    },
    {
     "name": "stdout",
     "output_type": "stream",
     "text": [
      "train Loss 0.1491 Acc : 0.9479\n"
     ]
    },
    {
     "name": "stderr",
     "output_type": "stream",
     "text": [
      "100%|██████████| 106/106 [00:04<00:00, 22.23it/s]\n"
     ]
    },
    {
     "name": "stdout",
     "output_type": "stream",
     "text": [
      "val Loss 0.4571 Acc : 0.8499\n",
      "Epoch 18/ 50\n",
      "******************************\n"
     ]
    },
    {
     "name": "stderr",
     "output_type": "stream",
     "text": [
      "100%|██████████| 423/423 [00:28<00:00, 14.78it/s]\n"
     ]
    },
    {
     "name": "stdout",
     "output_type": "stream",
     "text": [
      "train Loss 0.0895 Acc : 0.9743\n"
     ]
    },
    {
     "name": "stderr",
     "output_type": "stream",
     "text": [
      "100%|██████████| 106/106 [00:06<00:00, 16.52it/s]\n"
     ]
    },
    {
     "name": "stdout",
     "output_type": "stream",
     "text": [
      "val Loss 0.4269 Acc : 0.8842\n",
      "Epoch 19/ 50\n",
      "******************************\n"
     ]
    },
    {
     "name": "stderr",
     "output_type": "stream",
     "text": [
      "100%|██████████| 423/423 [00:29<00:00, 14.19it/s]\n"
     ]
    },
    {
     "name": "stdout",
     "output_type": "stream",
     "text": [
      "train Loss 0.0873 Acc : 0.9698\n"
     ]
    },
    {
     "name": "stderr",
     "output_type": "stream",
     "text": [
      "100%|██████████| 106/106 [00:06<00:00, 17.36it/s]\n"
     ]
    },
    {
     "name": "stdout",
     "output_type": "stream",
     "text": [
      "val Loss 0.5523 Acc : 0.8392\n",
      "Epoch 20/ 50\n",
      "******************************\n"
     ]
    },
    {
     "name": "stderr",
     "output_type": "stream",
     "text": [
      "100%|██████████| 423/423 [00:25<00:00, 16.36it/s]\n"
     ]
    },
    {
     "name": "stdout",
     "output_type": "stream",
     "text": [
      "train Loss 0.0837 Acc : 0.9725\n"
     ]
    },
    {
     "name": "stderr",
     "output_type": "stream",
     "text": [
      "100%|██████████| 106/106 [00:05<00:00, 19.45it/s]\n"
     ]
    },
    {
     "name": "stdout",
     "output_type": "stream",
     "text": [
      "val Loss 0.5352 Acc : 0.8369\n",
      "Epoch 21/ 50\n",
      "******************************\n"
     ]
    },
    {
     "name": "stderr",
     "output_type": "stream",
     "text": [
      "100%|██████████| 423/423 [00:28<00:00, 14.98it/s]\n"
     ]
    },
    {
     "name": "stdout",
     "output_type": "stream",
     "text": [
      "train Loss 0.0771 Acc : 0.9760\n"
     ]
    },
    {
     "name": "stderr",
     "output_type": "stream",
     "text": [
      "100%|██████████| 106/106 [00:04<00:00, 21.51it/s]\n"
     ]
    },
    {
     "name": "stdout",
     "output_type": "stream",
     "text": [
      "val Loss 0.5627 Acc : 0.8499\n",
      "Epoch 22/ 50\n",
      "******************************\n"
     ]
    },
    {
     "name": "stderr",
     "output_type": "stream",
     "text": [
      "100%|██████████| 423/423 [00:26<00:00, 15.96it/s]\n"
     ]
    },
    {
     "name": "stdout",
     "output_type": "stream",
     "text": [
      "train Loss 0.0504 Acc : 0.9834\n"
     ]
    },
    {
     "name": "stderr",
     "output_type": "stream",
     "text": [
      "100%|██████████| 106/106 [00:05<00:00, 18.29it/s]\n"
     ]
    },
    {
     "name": "stdout",
     "output_type": "stream",
     "text": [
      "val Loss 0.4404 Acc : 0.8735\n",
      "Epoch 23/ 50\n",
      "******************************\n"
     ]
    },
    {
     "name": "stderr",
     "output_type": "stream",
     "text": [
      "100%|██████████| 423/423 [00:28<00:00, 14.98it/s]\n"
     ]
    },
    {
     "name": "stdout",
     "output_type": "stream",
     "text": [
      "train Loss 0.0287 Acc : 0.9905\n"
     ]
    },
    {
     "name": "stderr",
     "output_type": "stream",
     "text": [
      "100%|██████████| 106/106 [00:05<00:00, 20.02it/s]\n"
     ]
    },
    {
     "name": "stdout",
     "output_type": "stream",
     "text": [
      "val Loss 0.5889 Acc : 0.8783\n",
      "Epoch 24/ 50\n",
      "******************************\n"
     ]
    },
    {
     "name": "stderr",
     "output_type": "stream",
     "text": [
      "100%|██████████| 423/423 [00:27<00:00, 15.59it/s]\n"
     ]
    },
    {
     "name": "stdout",
     "output_type": "stream",
     "text": [
      "train Loss 0.0465 Acc : 0.9837\n"
     ]
    },
    {
     "name": "stderr",
     "output_type": "stream",
     "text": [
      "100%|██████████| 106/106 [00:04<00:00, 22.92it/s]\n"
     ]
    },
    {
     "name": "stdout",
     "output_type": "stream",
     "text": [
      "val Loss 0.5367 Acc : 0.8783\n",
      "Epoch 25/ 50\n",
      "******************************\n"
     ]
    },
    {
     "name": "stderr",
     "output_type": "stream",
     "text": [
      "100%|██████████| 423/423 [00:27<00:00, 15.23it/s]\n"
     ]
    },
    {
     "name": "stdout",
     "output_type": "stream",
     "text": [
      "train Loss 0.0661 Acc : 0.9808\n"
     ]
    },
    {
     "name": "stderr",
     "output_type": "stream",
     "text": [
      "100%|██████████| 106/106 [00:04<00:00, 24.12it/s]\n"
     ]
    },
    {
     "name": "stdout",
     "output_type": "stream",
     "text": [
      "val Loss 0.4996 Acc : 0.8582\n",
      "Epoch 26/ 50\n",
      "******************************\n"
     ]
    },
    {
     "name": "stderr",
     "output_type": "stream",
     "text": [
      "100%|██████████| 423/423 [00:26<00:00, 15.87it/s]\n"
     ]
    },
    {
     "name": "stdout",
     "output_type": "stream",
     "text": [
      "train Loss 0.0539 Acc : 0.9817\n"
     ]
    },
    {
     "name": "stderr",
     "output_type": "stream",
     "text": [
      "100%|██████████| 106/106 [00:04<00:00, 21.97it/s]\n"
     ]
    },
    {
     "name": "stdout",
     "output_type": "stream",
     "text": [
      "val Loss 0.4021 Acc : 0.8747\n",
      "Epoch 27/ 50\n",
      "******************************\n"
     ]
    },
    {
     "name": "stderr",
     "output_type": "stream",
     "text": [
      "100%|██████████| 423/423 [00:25<00:00, 16.33it/s]\n"
     ]
    },
    {
     "name": "stdout",
     "output_type": "stream",
     "text": [
      "train Loss 0.0407 Acc : 0.9867\n"
     ]
    },
    {
     "name": "stderr",
     "output_type": "stream",
     "text": [
      "100%|██████████| 106/106 [00:04<00:00, 24.13it/s]\n"
     ]
    },
    {
     "name": "stdout",
     "output_type": "stream",
     "text": [
      "val Loss 0.4629 Acc : 0.8913\n",
      "Epoch 28/ 50\n",
      "******************************\n"
     ]
    },
    {
     "name": "stderr",
     "output_type": "stream",
     "text": [
      "100%|██████████| 423/423 [00:29<00:00, 14.40it/s]\n"
     ]
    },
    {
     "name": "stdout",
     "output_type": "stream",
     "text": [
      "train Loss 0.0650 Acc : 0.9802\n"
     ]
    },
    {
     "name": "stderr",
     "output_type": "stream",
     "text": [
      "100%|██████████| 106/106 [00:05<00:00, 19.46it/s]\n"
     ]
    },
    {
     "name": "stdout",
     "output_type": "stream",
     "text": [
      "val Loss 0.4204 Acc : 0.8771\n",
      "Epoch 29/ 50\n",
      "******************************\n"
     ]
    },
    {
     "name": "stderr",
     "output_type": "stream",
     "text": [
      "100%|██████████| 423/423 [00:25<00:00, 16.70it/s]\n"
     ]
    },
    {
     "name": "stdout",
     "output_type": "stream",
     "text": [
      "train Loss 0.0203 Acc : 0.9944\n"
     ]
    },
    {
     "name": "stderr",
     "output_type": "stream",
     "text": [
      "100%|██████████| 106/106 [00:04<00:00, 24.22it/s]\n"
     ]
    },
    {
     "name": "stdout",
     "output_type": "stream",
     "text": [
      "val Loss 0.5263 Acc : 0.8570\n",
      "Epoch 30/ 50\n",
      "******************************\n"
     ]
    },
    {
     "name": "stderr",
     "output_type": "stream",
     "text": [
      "100%|██████████| 423/423 [00:25<00:00, 16.76it/s]\n"
     ]
    },
    {
     "name": "stdout",
     "output_type": "stream",
     "text": [
      "train Loss 0.0448 Acc : 0.9837\n"
     ]
    },
    {
     "name": "stderr",
     "output_type": "stream",
     "text": [
      "100%|██████████| 106/106 [00:04<00:00, 21.59it/s]\n"
     ]
    },
    {
     "name": "stdout",
     "output_type": "stream",
     "text": [
      "val Loss 0.6353 Acc : 0.8735\n",
      "Epoch 31/ 50\n",
      "******************************\n"
     ]
    },
    {
     "name": "stderr",
     "output_type": "stream",
     "text": [
      "100%|██████████| 423/423 [00:26<00:00, 15.75it/s]\n"
     ]
    },
    {
     "name": "stdout",
     "output_type": "stream",
     "text": [
      "train Loss 0.0061 Acc : 0.9988\n"
     ]
    },
    {
     "name": "stderr",
     "output_type": "stream",
     "text": [
      "100%|██████████| 106/106 [00:05<00:00, 21.00it/s]\n"
     ]
    },
    {
     "name": "stdout",
     "output_type": "stream",
     "text": [
      "val Loss 0.6398 Acc : 0.8783\n",
      "Epoch 32/ 50\n",
      "******************************\n"
     ]
    },
    {
     "name": "stderr",
     "output_type": "stream",
     "text": [
      "100%|██████████| 423/423 [00:27<00:00, 15.55it/s]\n"
     ]
    },
    {
     "name": "stdout",
     "output_type": "stream",
     "text": [
      "train Loss 0.0042 Acc : 0.9985\n"
     ]
    },
    {
     "name": "stderr",
     "output_type": "stream",
     "text": [
      "100%|██████████| 106/106 [00:04<00:00, 24.91it/s]\n"
     ]
    },
    {
     "name": "stdout",
     "output_type": "stream",
     "text": [
      "val Loss 0.4967 Acc : 0.8889\n",
      "Epoch 33/ 50\n",
      "******************************\n"
     ]
    },
    {
     "name": "stderr",
     "output_type": "stream",
     "text": [
      "100%|██████████| 423/423 [00:28<00:00, 15.03it/s]\n"
     ]
    },
    {
     "name": "stdout",
     "output_type": "stream",
     "text": [
      "train Loss 0.0295 Acc : 0.9902\n"
     ]
    },
    {
     "name": "stderr",
     "output_type": "stream",
     "text": [
      "100%|██████████| 106/106 [00:05<00:00, 20.87it/s]\n"
     ]
    },
    {
     "name": "stdout",
     "output_type": "stream",
     "text": [
      "val Loss 0.4432 Acc : 0.8794\n",
      "Epoch 34/ 50\n",
      "******************************\n"
     ]
    },
    {
     "name": "stderr",
     "output_type": "stream",
     "text": [
      "100%|██████████| 423/423 [00:26<00:00, 15.86it/s]\n"
     ]
    },
    {
     "name": "stdout",
     "output_type": "stream",
     "text": [
      "train Loss 0.0507 Acc : 0.9852\n"
     ]
    },
    {
     "name": "stderr",
     "output_type": "stream",
     "text": [
      "100%|██████████| 106/106 [00:06<00:00, 17.49it/s]\n"
     ]
    },
    {
     "name": "stdout",
     "output_type": "stream",
     "text": [
      "val Loss 0.5835 Acc : 0.8747\n",
      "Epoch 35/ 50\n",
      "******************************\n"
     ]
    },
    {
     "name": "stderr",
     "output_type": "stream",
     "text": [
      "100%|██████████| 423/423 [00:26<00:00, 15.84it/s]\n"
     ]
    },
    {
     "name": "stdout",
     "output_type": "stream",
     "text": [
      "train Loss 0.0255 Acc : 0.9917\n"
     ]
    },
    {
     "name": "stderr",
     "output_type": "stream",
     "text": [
      "100%|██████████| 106/106 [00:04<00:00, 23.24it/s]\n"
     ]
    },
    {
     "name": "stdout",
     "output_type": "stream",
     "text": [
      "val Loss 0.4837 Acc : 0.8853\n",
      "Epoch 36/ 50\n",
      "******************************\n"
     ]
    },
    {
     "name": "stderr",
     "output_type": "stream",
     "text": [
      "100%|██████████| 423/423 [00:28<00:00, 14.90it/s]\n"
     ]
    },
    {
     "name": "stdout",
     "output_type": "stream",
     "text": [
      "train Loss 0.0102 Acc : 0.9967\n"
     ]
    },
    {
     "name": "stderr",
     "output_type": "stream",
     "text": [
      "100%|██████████| 106/106 [00:05<00:00, 18.94it/s]\n"
     ]
    },
    {
     "name": "stdout",
     "output_type": "stream",
     "text": [
      "max val acc:0.9137115839243498, save in ./Model/vgg16.pth\n",
      "val Loss 0.4298 Acc : 0.9137\n",
      "Epoch 37/ 50\n",
      "******************************\n"
     ]
    },
    {
     "name": "stderr",
     "output_type": "stream",
     "text": [
      "100%|██████████| 423/423 [00:28<00:00, 14.65it/s]\n"
     ]
    },
    {
     "name": "stdout",
     "output_type": "stream",
     "text": [
      "train Loss 0.0286 Acc : 0.9893\n"
     ]
    },
    {
     "name": "stderr",
     "output_type": "stream",
     "text": [
      "100%|██████████| 106/106 [00:05<00:00, 19.14it/s]\n"
     ]
    },
    {
     "name": "stdout",
     "output_type": "stream",
     "text": [
      "val Loss 0.5593 Acc : 0.8641\n",
      "Epoch 38/ 50\n",
      "******************************\n"
     ]
    },
    {
     "name": "stderr",
     "output_type": "stream",
     "text": [
      "100%|██████████| 423/423 [00:27<00:00, 15.28it/s]\n"
     ]
    },
    {
     "name": "stdout",
     "output_type": "stream",
     "text": [
      "train Loss 0.0128 Acc : 0.9956\n"
     ]
    },
    {
     "name": "stderr",
     "output_type": "stream",
     "text": [
      "100%|██████████| 106/106 [00:05<00:00, 19.13it/s]\n"
     ]
    },
    {
     "name": "stdout",
     "output_type": "stream",
     "text": [
      "val Loss 0.5045 Acc : 0.9031\n",
      "Epoch 39/ 50\n",
      "******************************\n"
     ]
    },
    {
     "name": "stderr",
     "output_type": "stream",
     "text": [
      "100%|██████████| 423/423 [00:29<00:00, 14.54it/s]\n"
     ]
    },
    {
     "name": "stdout",
     "output_type": "stream",
     "text": [
      "train Loss 0.0023 Acc : 0.9994\n"
     ]
    },
    {
     "name": "stderr",
     "output_type": "stream",
     "text": [
      "100%|██████████| 106/106 [00:05<00:00, 18.04it/s]\n"
     ]
    },
    {
     "name": "stdout",
     "output_type": "stream",
     "text": [
      "val Loss 0.6070 Acc : 0.8877\n",
      "Epoch 40/ 50\n",
      "******************************\n"
     ]
    },
    {
     "name": "stderr",
     "output_type": "stream",
     "text": [
      "100%|██████████| 423/423 [00:28<00:00, 14.61it/s]\n"
     ]
    },
    {
     "name": "stdout",
     "output_type": "stream",
     "text": [
      "train Loss 0.0011 Acc : 0.9997\n"
     ]
    },
    {
     "name": "stderr",
     "output_type": "stream",
     "text": [
      "100%|██████████| 106/106 [00:07<00:00, 14.90it/s]\n"
     ]
    },
    {
     "name": "stdout",
     "output_type": "stream",
     "text": [
      "val Loss 0.6427 Acc : 0.9043\n",
      "Epoch 41/ 50\n",
      "******************************\n"
     ]
    },
    {
     "name": "stderr",
     "output_type": "stream",
     "text": [
      "100%|██████████| 423/423 [00:29<00:00, 14.45it/s]\n"
     ]
    },
    {
     "name": "stdout",
     "output_type": "stream",
     "text": [
      "train Loss 0.0024 Acc : 0.9994\n"
     ]
    },
    {
     "name": "stderr",
     "output_type": "stream",
     "text": [
      "100%|██████████| 106/106 [00:06<00:00, 16.30it/s]\n"
     ]
    },
    {
     "name": "stdout",
     "output_type": "stream",
     "text": [
      "val Loss 0.5206 Acc : 0.9113\n",
      "Epoch 42/ 50\n",
      "******************************\n"
     ]
    },
    {
     "name": "stderr",
     "output_type": "stream",
     "text": [
      "100%|██████████| 423/423 [00:30<00:00, 13.83it/s]\n"
     ]
    },
    {
     "name": "stdout",
     "output_type": "stream",
     "text": [
      "train Loss 0.0006 Acc : 1.0000\n"
     ]
    },
    {
     "name": "stderr",
     "output_type": "stream",
     "text": [
      "100%|██████████| 106/106 [00:07<00:00, 14.04it/s]\n"
     ]
    },
    {
     "name": "stdout",
     "output_type": "stream",
     "text": [
      "val Loss 0.7764 Acc : 0.8794\n",
      "Epoch 43/ 50\n",
      "******************************\n"
     ]
    },
    {
     "name": "stderr",
     "output_type": "stream",
     "text": [
      "100%|██████████| 423/423 [00:28<00:00, 14.75it/s]\n"
     ]
    },
    {
     "name": "stdout",
     "output_type": "stream",
     "text": [
      "train Loss 0.0005 Acc : 1.0000\n"
     ]
    },
    {
     "name": "stderr",
     "output_type": "stream",
     "text": [
      "100%|██████████| 106/106 [00:05<00:00, 17.73it/s]\n"
     ]
    },
    {
     "name": "stdout",
     "output_type": "stream",
     "text": [
      "val Loss 0.7120 Acc : 0.9113\n",
      "Epoch 44/ 50\n",
      "******************************\n"
     ]
    },
    {
     "name": "stderr",
     "output_type": "stream",
     "text": [
      "100%|██████████| 423/423 [00:29<00:00, 14.43it/s]\n"
     ]
    },
    {
     "name": "stdout",
     "output_type": "stream",
     "text": [
      "train Loss 0.0006 Acc : 1.0000\n"
     ]
    },
    {
     "name": "stderr",
     "output_type": "stream",
     "text": [
      "100%|██████████| 106/106 [00:05<00:00, 18.43it/s]\n"
     ]
    },
    {
     "name": "stdout",
     "output_type": "stream",
     "text": [
      "val Loss 0.8108 Acc : 0.8995\n",
      "Epoch 45/ 50\n",
      "******************************\n"
     ]
    },
    {
     "name": "stderr",
     "output_type": "stream",
     "text": [
      "100%|██████████| 423/423 [00:28<00:00, 14.91it/s]\n"
     ]
    },
    {
     "name": "stdout",
     "output_type": "stream",
     "text": [
      "train Loss 0.0004 Acc : 1.0000\n"
     ]
    },
    {
     "name": "stderr",
     "output_type": "stream",
     "text": [
      "100%|██████████| 106/106 [00:05<00:00, 21.13it/s]\n"
     ]
    },
    {
     "name": "stdout",
     "output_type": "stream",
     "text": [
      "max val acc:0.9148936170212766, save in ./Model/vgg16.pth\n",
      "val Loss 0.6000 Acc : 0.9149\n",
      "Epoch 46/ 50\n",
      "******************************\n"
     ]
    },
    {
     "name": "stderr",
     "output_type": "stream",
     "text": [
      "100%|██████████| 423/423 [00:29<00:00, 14.41it/s]\n"
     ]
    },
    {
     "name": "stdout",
     "output_type": "stream",
     "text": [
      "train Loss 0.0002 Acc : 1.0000\n"
     ]
    },
    {
     "name": "stderr",
     "output_type": "stream",
     "text": [
      "100%|██████████| 106/106 [00:05<00:00, 19.78it/s]\n"
     ]
    },
    {
     "name": "stdout",
     "output_type": "stream",
     "text": [
      "val Loss 0.6654 Acc : 0.8913\n",
      "Epoch 47/ 50\n",
      "******************************\n"
     ]
    },
    {
     "name": "stderr",
     "output_type": "stream",
     "text": [
      "100%|██████████| 423/423 [00:29<00:00, 14.48it/s]\n"
     ]
    },
    {
     "name": "stdout",
     "output_type": "stream",
     "text": [
      "train Loss 0.0001 Acc : 1.0000\n"
     ]
    },
    {
     "name": "stderr",
     "output_type": "stream",
     "text": [
      "100%|██████████| 106/106 [00:05<00:00, 19.84it/s]\n"
     ]
    },
    {
     "name": "stdout",
     "output_type": "stream",
     "text": [
      "val Loss 0.7583 Acc : 0.8771\n",
      "Epoch 48/ 50\n",
      "******************************\n"
     ]
    },
    {
     "name": "stderr",
     "output_type": "stream",
     "text": [
      "100%|██████████| 423/423 [00:29<00:00, 14.11it/s]\n"
     ]
    },
    {
     "name": "stdout",
     "output_type": "stream",
     "text": [
      "train Loss 0.0007 Acc : 0.9997\n"
     ]
    },
    {
     "name": "stderr",
     "output_type": "stream",
     "text": [
      "100%|██████████| 106/106 [00:06<00:00, 17.48it/s]\n"
     ]
    },
    {
     "name": "stdout",
     "output_type": "stream",
     "text": [
      "val Loss 0.5916 Acc : 0.9031\n",
      "Epoch 49/ 50\n",
      "******************************\n"
     ]
    },
    {
     "name": "stderr",
     "output_type": "stream",
     "text": [
      "100%|██████████| 423/423 [00:28<00:00, 14.82it/s]\n"
     ]
    },
    {
     "name": "stdout",
     "output_type": "stream",
     "text": [
      "train Loss 0.0235 Acc : 0.9938\n"
     ]
    },
    {
     "name": "stderr",
     "output_type": "stream",
     "text": [
      "100%|██████████| 106/106 [00:06<00:00, 16.42it/s]\n"
     ]
    },
    {
     "name": "stdout",
     "output_type": "stream",
     "text": [
      "val Loss 0.9043 Acc : 0.8050\n",
      "Epoch 50/ 50\n",
      "******************************\n"
     ]
    },
    {
     "name": "stderr",
     "output_type": "stream",
     "text": [
      "100%|██████████| 423/423 [00:30<00:00, 13.74it/s]\n"
     ]
    },
    {
     "name": "stdout",
     "output_type": "stream",
     "text": [
      "train Loss 0.0278 Acc : 0.9926\n"
     ]
    },
    {
     "name": "stderr",
     "output_type": "stream",
     "text": [
      "100%|██████████| 106/106 [00:05<00:00, 19.64it/s]"
     ]
    },
    {
     "name": "stdout",
     "output_type": "stream",
     "text": [
      "val Loss 0.5115 Acc : 0.8972\n"
     ]
    },
    {
     "name": "stderr",
     "output_type": "stream",
     "text": [
      "\n"
     ]
    }
   ],
   "source": [
    "use_pretrained= True\n",
    "net = models.vgg16(pretrained=use_pretrained)\n",
    "net.classifier[6] = nn.Linear(in_features=4096, out_features=4)\n",
    "net.features[0] = nn.Conv2d(1, 64, kernel_size=(3, 3), stride=(1, 1), padding=(1, 1))\n",
    "\n",
    "\n",
    "optimizer = optim.SGD(params=net.parameters(), lr=0.001, momentum=0.9)\n",
    "criterion = nn.CrossEntropyLoss()\n",
    "net = net.to(device)\n",
    "# train_model 함수 실행\n",
    "num_epochs = 50\n",
    "result = train_model(net, dataloaders_dict, criterion, optimizer, \n",
    "                     num_epochs=num_epochs, save_model='./Model/vgg16.pth',\n",
    "                     device=device)"
   ]
  },
  {
   "cell_type": "code",
   "execution_count": 44,
   "id": "6113fb60",
   "metadata": {
    "scrolled": true
   },
   "outputs": [],
   "source": [
    "import matplotlib.pyplot as plt\n",
    "\n",
    "def show_result(result):\n",
    "    plt.figure(figsize=(10, 4))\n",
    "    \n",
    "    plt.subplot(1, 2, 1)\n",
    "    plt.plot(range(1, len(result['train loss'])+1), result['train loss'], c='b', label='train loss')\n",
    "    plt.plot(range(1, len(result['val loss'])+1), result['val loss'], c='r', label='val loss')\n",
    "    plt.xlabel('epoch')\n",
    "    plt.ylabel('loss', rotation=0)\n",
    "    plt.title('Loss')\n",
    "    plt.legend()\n",
    "    \n",
    "    plt.subplot(1, 2, 2)\n",
    "    plt.plot(range(1, len(result['train acc'])+1), result['train acc'], c='b', label='train acc')\n",
    "    plt.plot(range(1, len(result['val acc'])+1), result['val acc'], c='r', label='val acc')\n",
    "    plt.xlabel('epoch')\n",
    "    plt.ylabel('accuracy', rotation=0)\n",
    "    plt.title('Accuracy')\n",
    "    plt.ylim([0, 1.0])\n",
    "    \n",
    "    plt.legend()\n",
    "    \n",
    "    plt.show()"
   ]
  },
  {
   "cell_type": "code",
   "execution_count": 46,
   "id": "01017609",
   "metadata": {},
   "outputs": [
    {
     "data": {
      "text/plain": [
       "{'train loss': [1.3527799331778498,\n",
       "  1.2548799523590373,\n",
       "  1.026456064675538,\n",
       "  0.7549526844373219,\n",
       "  0.6065143239184151,\n",
       "  0.5012809939861086,\n",
       "  0.3701381858291623,\n",
       "  0.3491369394569504,\n",
       "  0.29363441446668725,\n",
       "  0.2314873371685608,\n",
       "  0.17748417216263543,\n",
       "  0.18247574901771374,\n",
       "  0.1898678285990337,\n",
       "  0.13087594030872768,\n",
       "  0.10407509422095089,\n",
       "  0.14911100983903028,\n",
       "  0.08949169340181197,\n",
       "  0.08729445983652444,\n",
       "  0.08365086832610422,\n",
       "  0.07705027771038139,\n",
       "  0.05037286121427375,\n",
       "  0.028699362370018914,\n",
       "  0.04650783993209913,\n",
       "  0.06613906672882085,\n",
       "  0.0539154817603494,\n",
       "  0.04069990529492373,\n",
       "  0.06495840319270184,\n",
       "  0.020267235141475035,\n",
       "  0.044843426441043284,\n",
       "  0.00607681387397526,\n",
       "  0.004171782830768951,\n",
       "  0.029460869920596926,\n",
       "  0.050692549629583625,\n",
       "  0.02553758106814704,\n",
       "  0.01018554036453162,\n",
       "  0.028610102694636166,\n",
       "  0.012757896250699582,\n",
       "  0.002298870294811335,\n",
       "  0.0011077177707594437,\n",
       "  0.0023825805057350047,\n",
       "  0.000586505307269479,\n",
       "  0.0005448245016681252,\n",
       "  0.000632464500942788,\n",
       "  0.0003610542603336016,\n",
       "  0.00024914716696437903,\n",
       "  0.00014442951537359169,\n",
       "  0.0006951533282204268,\n",
       "  0.023527729724346177,\n",
       "  0.027782711266364817],\n",
       " 'val loss': [1.427821640427231,\n",
       "  1.292839797957851,\n",
       "  1.2007580372740472,\n",
       "  0.8729806948215404,\n",
       "  0.7248965973831519,\n",
       "  0.6770118306573683,\n",
       "  0.5448328868858076,\n",
       "  0.4900808766237669,\n",
       "  0.5233376957564208,\n",
       "  0.5874308310581225,\n",
       "  0.8202008674973644,\n",
       "  0.5249217227277463,\n",
       "  0.43381222451092505,\n",
       "  0.4222753825278217,\n",
       "  0.3620304512955363,\n",
       "  0.45257697442885547,\n",
       "  0.45714198134786693,\n",
       "  0.42689316961356305,\n",
       "  0.5523132018339831,\n",
       "  0.5351966602384304,\n",
       "  0.5626816586459201,\n",
       "  0.44039998002059705,\n",
       "  0.5889325426543576,\n",
       "  0.5367394632562977,\n",
       "  0.4995844078230414,\n",
       "  0.4020806365133424,\n",
       "  0.4628672901041207,\n",
       "  0.4204392835016783,\n",
       "  0.5262618704703659,\n",
       "  0.6353470050808866,\n",
       "  0.6397799829930987,\n",
       "  0.4966690237359294,\n",
       "  0.44316358043923404,\n",
       "  0.5834810875755807,\n",
       "  0.48370774866419736,\n",
       "  0.42981018225307077,\n",
       "  0.5592845989275342,\n",
       "  0.5044634843931256,\n",
       "  0.6070053879118184,\n",
       "  0.6426537836152816,\n",
       "  0.5205864752544782,\n",
       "  0.7763841539572541,\n",
       "  0.7119950341450711,\n",
       "  0.8108005524438628,\n",
       "  0.6000155816329323,\n",
       "  0.6654204677899175,\n",
       "  0.7583133695713974,\n",
       "  0.5916489411803341,\n",
       "  0.904264879510925,\n",
       "  0.5115338468963521],\n",
       " 'train acc': [tensor(0.3214, device='cuda:2', dtype=torch.float64),\n",
       "  tensor(0.4108, device='cuda:2', dtype=torch.float64),\n",
       "  tensor(0.5419, device='cuda:2', dtype=torch.float64),\n",
       "  tensor(0.6866, device='cuda:2', dtype=torch.float64),\n",
       "  tensor(0.7535, device='cuda:2', dtype=torch.float64),\n",
       "  tensor(0.8082, device='cuda:2', dtype=torch.float64),\n",
       "  tensor(0.8612, device='cuda:2', dtype=torch.float64),\n",
       "  tensor(0.8837, device='cuda:2', dtype=torch.float64),\n",
       "  tensor(0.8938, device='cuda:2', dtype=torch.float64),\n",
       "  tensor(0.9183, device='cuda:2', dtype=torch.float64),\n",
       "  tensor(0.9373, device='cuda:2', dtype=torch.float64),\n",
       "  tensor(0.9358, device='cuda:2', dtype=torch.float64),\n",
       "  tensor(0.9334, device='cuda:2', dtype=torch.float64),\n",
       "  tensor(0.9535, device='cuda:2', dtype=torch.float64),\n",
       "  tensor(0.9609, device='cuda:2', dtype=torch.float64),\n",
       "  tensor(0.9479, device='cuda:2', dtype=torch.float64),\n",
       "  tensor(0.9743, device='cuda:2', dtype=torch.float64),\n",
       "  tensor(0.9698, device='cuda:2', dtype=torch.float64),\n",
       "  tensor(0.9725, device='cuda:2', dtype=torch.float64),\n",
       "  tensor(0.9760, device='cuda:2', dtype=torch.float64),\n",
       "  tensor(0.9834, device='cuda:2', dtype=torch.float64),\n",
       "  tensor(0.9905, device='cuda:2', dtype=torch.float64),\n",
       "  tensor(0.9837, device='cuda:2', dtype=torch.float64),\n",
       "  tensor(0.9808, device='cuda:2', dtype=torch.float64),\n",
       "  tensor(0.9817, device='cuda:2', dtype=torch.float64),\n",
       "  tensor(0.9867, device='cuda:2', dtype=torch.float64),\n",
       "  tensor(0.9802, device='cuda:2', dtype=torch.float64),\n",
       "  tensor(0.9944, device='cuda:2', dtype=torch.float64),\n",
       "  tensor(0.9837, device='cuda:2', dtype=torch.float64),\n",
       "  tensor(0.9988, device='cuda:2', dtype=torch.float64),\n",
       "  tensor(0.9985, device='cuda:2', dtype=torch.float64),\n",
       "  tensor(0.9902, device='cuda:2', dtype=torch.float64),\n",
       "  tensor(0.9852, device='cuda:2', dtype=torch.float64),\n",
       "  tensor(0.9917, device='cuda:2', dtype=torch.float64),\n",
       "  tensor(0.9967, device='cuda:2', dtype=torch.float64),\n",
       "  tensor(0.9893, device='cuda:2', dtype=torch.float64),\n",
       "  tensor(0.9956, device='cuda:2', dtype=torch.float64),\n",
       "  tensor(0.9994, device='cuda:2', dtype=torch.float64),\n",
       "  tensor(0.9997, device='cuda:2', dtype=torch.float64),\n",
       "  tensor(0.9994, device='cuda:2', dtype=torch.float64),\n",
       "  tensor(1., device='cuda:2', dtype=torch.float64),\n",
       "  tensor(1., device='cuda:2', dtype=torch.float64),\n",
       "  tensor(1., device='cuda:2', dtype=torch.float64),\n",
       "  tensor(1., device='cuda:2', dtype=torch.float64),\n",
       "  tensor(1., device='cuda:2', dtype=torch.float64),\n",
       "  tensor(1., device='cuda:2', dtype=torch.float64),\n",
       "  tensor(0.9997, device='cuda:2', dtype=torch.float64),\n",
       "  tensor(0.9938, device='cuda:2', dtype=torch.float64),\n",
       "  tensor(0.9926, device='cuda:2', dtype=torch.float64)],\n",
       " 'val acc': [tensor(0.2352, device='cuda:2', dtype=torch.float64),\n",
       "  tensor(0.3747, device='cuda:2', dtype=torch.float64),\n",
       "  tensor(0.4374, device='cuda:2', dtype=torch.float64),\n",
       "  tensor(0.6217, device='cuda:2', dtype=torch.float64),\n",
       "  tensor(0.6690, device='cuda:2', dtype=torch.float64),\n",
       "  tensor(0.7128, device='cuda:2', dtype=torch.float64),\n",
       "  tensor(0.7908, device='cuda:2', dtype=torch.float64),\n",
       "  tensor(0.8144, device='cuda:2', dtype=torch.float64),\n",
       "  tensor(0.8109, device='cuda:2', dtype=torch.float64),\n",
       "  tensor(0.8180, device='cuda:2', dtype=torch.float64),\n",
       "  tensor(0.7305, device='cuda:2', dtype=torch.float64),\n",
       "  tensor(0.8109, device='cuda:2', dtype=torch.float64),\n",
       "  tensor(0.8487, device='cuda:2', dtype=torch.float64),\n",
       "  tensor(0.8570, device='cuda:2', dtype=torch.float64),\n",
       "  tensor(0.8983, device='cuda:2', dtype=torch.float64),\n",
       "  tensor(0.8641, device='cuda:2', dtype=torch.float64),\n",
       "  tensor(0.8499, device='cuda:2', dtype=torch.float64),\n",
       "  tensor(0.8842, device='cuda:2', dtype=torch.float64),\n",
       "  tensor(0.8392, device='cuda:2', dtype=torch.float64),\n",
       "  tensor(0.8369, device='cuda:2', dtype=torch.float64),\n",
       "  tensor(0.8499, device='cuda:2', dtype=torch.float64),\n",
       "  tensor(0.8735, device='cuda:2', dtype=torch.float64),\n",
       "  tensor(0.8783, device='cuda:2', dtype=torch.float64),\n",
       "  tensor(0.8783, device='cuda:2', dtype=torch.float64),\n",
       "  tensor(0.8582, device='cuda:2', dtype=torch.float64),\n",
       "  tensor(0.8747, device='cuda:2', dtype=torch.float64),\n",
       "  tensor(0.8913, device='cuda:2', dtype=torch.float64),\n",
       "  tensor(0.8771, device='cuda:2', dtype=torch.float64),\n",
       "  tensor(0.8570, device='cuda:2', dtype=torch.float64),\n",
       "  tensor(0.8735, device='cuda:2', dtype=torch.float64),\n",
       "  tensor(0.8783, device='cuda:2', dtype=torch.float64),\n",
       "  tensor(0.8889, device='cuda:2', dtype=torch.float64),\n",
       "  tensor(0.8794, device='cuda:2', dtype=torch.float64),\n",
       "  tensor(0.8747, device='cuda:2', dtype=torch.float64),\n",
       "  tensor(0.8853, device='cuda:2', dtype=torch.float64),\n",
       "  tensor(0.9137, device='cuda:2', dtype=torch.float64),\n",
       "  tensor(0.8641, device='cuda:2', dtype=torch.float64),\n",
       "  tensor(0.9031, device='cuda:2', dtype=torch.float64),\n",
       "  tensor(0.8877, device='cuda:2', dtype=torch.float64),\n",
       "  tensor(0.9043, device='cuda:2', dtype=torch.float64),\n",
       "  tensor(0.9113, device='cuda:2', dtype=torch.float64),\n",
       "  tensor(0.8794, device='cuda:2', dtype=torch.float64),\n",
       "  tensor(0.9113, device='cuda:2', dtype=torch.float64),\n",
       "  tensor(0.8995, device='cuda:2', dtype=torch.float64),\n",
       "  tensor(0.9149, device='cuda:2', dtype=torch.float64),\n",
       "  tensor(0.8913, device='cuda:2', dtype=torch.float64),\n",
       "  tensor(0.8771, device='cuda:2', dtype=torch.float64),\n",
       "  tensor(0.9031, device='cuda:2', dtype=torch.float64),\n",
       "  tensor(0.8050, device='cuda:2', dtype=torch.float64),\n",
       "  tensor(0.8972, device='cuda:2', dtype=torch.float64)]}"
      ]
     },
     "execution_count": 46,
     "metadata": {},
     "output_type": "execute_result"
    }
   ],
   "source": [
    "result"
   ]
  },
  {
   "cell_type": "code",
   "execution_count": 52,
   "id": "c40da9d7",
   "metadata": {},
   "outputs": [
    {
     "data": {
      "text/plain": [
       "{'train loss': [1.3527799331778498,\n",
       "  1.2548799523590373,\n",
       "  1.026456064675538,\n",
       "  0.7549526844373219,\n",
       "  0.6065143239184151,\n",
       "  0.5012809939861086,\n",
       "  0.3701381858291623,\n",
       "  0.3491369394569504,\n",
       "  0.29363441446668725,\n",
       "  0.2314873371685608,\n",
       "  0.17748417216263543,\n",
       "  0.18247574901771374,\n",
       "  0.1898678285990337,\n",
       "  0.13087594030872768,\n",
       "  0.10407509422095089,\n",
       "  0.14911100983903028,\n",
       "  0.08949169340181197,\n",
       "  0.08729445983652444,\n",
       "  0.08365086832610422,\n",
       "  0.07705027771038139,\n",
       "  0.05037286121427375,\n",
       "  0.028699362370018914,\n",
       "  0.04650783993209913,\n",
       "  0.06613906672882085,\n",
       "  0.0539154817603494,\n",
       "  0.04069990529492373,\n",
       "  0.06495840319270184,\n",
       "  0.020267235141475035,\n",
       "  0.044843426441043284,\n",
       "  0.00607681387397526,\n",
       "  0.004171782830768951,\n",
       "  0.029460869920596926,\n",
       "  0.050692549629583625,\n",
       "  0.02553758106814704,\n",
       "  0.01018554036453162,\n",
       "  0.028610102694636166,\n",
       "  0.012757896250699582,\n",
       "  0.002298870294811335,\n",
       "  0.0011077177707594437,\n",
       "  0.0023825805057350047,\n",
       "  0.000586505307269479,\n",
       "  0.0005448245016681252,\n",
       "  0.000632464500942788,\n",
       "  0.0003610542603336016,\n",
       "  0.00024914716696437903,\n",
       "  0.00014442951537359169,\n",
       "  0.0006951533282204268,\n",
       "  0.023527729724346177,\n",
       "  0.027782711266364817],\n",
       " 'val loss': [1.427821640427231,\n",
       "  1.292839797957851,\n",
       "  1.2007580372740472,\n",
       "  0.8729806948215404,\n",
       "  0.7248965973831519,\n",
       "  0.6770118306573683,\n",
       "  0.5448328868858076,\n",
       "  0.4900808766237669,\n",
       "  0.5233376957564208,\n",
       "  0.5874308310581225,\n",
       "  0.8202008674973644,\n",
       "  0.5249217227277463,\n",
       "  0.43381222451092505,\n",
       "  0.4222753825278217,\n",
       "  0.3620304512955363,\n",
       "  0.45257697442885547,\n",
       "  0.45714198134786693,\n",
       "  0.42689316961356305,\n",
       "  0.5523132018339831,\n",
       "  0.5351966602384304,\n",
       "  0.5626816586459201,\n",
       "  0.44039998002059705,\n",
       "  0.5889325426543576,\n",
       "  0.5367394632562977,\n",
       "  0.4995844078230414,\n",
       "  0.4020806365133424,\n",
       "  0.4628672901041207,\n",
       "  0.4204392835016783,\n",
       "  0.5262618704703659,\n",
       "  0.6353470050808866,\n",
       "  0.6397799829930987,\n",
       "  0.4966690237359294,\n",
       "  0.44316358043923404,\n",
       "  0.5834810875755807,\n",
       "  0.48370774866419736,\n",
       "  0.42981018225307077,\n",
       "  0.5592845989275342,\n",
       "  0.5044634843931256,\n",
       "  0.6070053879118184,\n",
       "  0.6426537836152816,\n",
       "  0.5205864752544782,\n",
       "  0.7763841539572541,\n",
       "  0.7119950341450711,\n",
       "  0.8108005524438628,\n",
       "  0.6000155816329323,\n",
       "  0.6654204677899175,\n",
       "  0.7583133695713974,\n",
       "  0.5916489411803341,\n",
       "  0.904264879510925,\n",
       "  0.5115338468963521],\n",
       " 'train acc': [0.3213968629772122,\n",
       "  0.410772417875111,\n",
       "  0.5418762947617639,\n",
       "  0.6865936667653152,\n",
       "  0.7534773601657295,\n",
       "  0.808227286179343,\n",
       "  0.8612015389168394,\n",
       "  0.8836934004143238,\n",
       "  0.8937555489789879,\n",
       "  0.9183190292986091,\n",
       "  0.9372595442438592,\n",
       "  0.9357798165137615,\n",
       "  0.9334122521456052,\n",
       "  0.9535365492749335,\n",
       "  0.9609351879254218,\n",
       "  0.9479135839005624,\n",
       "  0.9742527374963007,\n",
       "  0.9698135543060077,\n",
       "  0.9724770642201835,\n",
       "  0.9760284107724179,\n",
       "  0.9834270494229063,\n",
       "  0.990529742527375,\n",
       "  0.9837229949689258,\n",
       "  0.9807635395087304,\n",
       "  0.981651376146789,\n",
       "  0.9866824504291211,\n",
       "  0.9801716484166914,\n",
       "  0.9943770346256289,\n",
       "  0.9837229949689258,\n",
       "  0.9988162178159219,\n",
       "  0.9985202722699024,\n",
       "  0.9902337969813555,\n",
       "  0.9852027226990234,\n",
       "  0.9917135247114531,\n",
       "  0.9967445989937852,\n",
       "  0.9893459603432969,\n",
       "  0.9955608168097071,\n",
       "  0.999408108907961,\n",
       "  0.9997040544539805,\n",
       "  0.999408108907961,\n",
       "  1.0,\n",
       "  1.0,\n",
       "  1.0,\n",
       "  1.0,\n",
       "  1.0,\n",
       "  1.0,\n",
       "  0.9997040544539805,\n",
       "  0.9937851435335898,\n",
       "  0.9926013613495117],\n",
       " 'val acc': [tensor(0.2352, device='cuda:2', dtype=torch.float64),\n",
       "  tensor(0.3747, device='cuda:2', dtype=torch.float64),\n",
       "  tensor(0.4374, device='cuda:2', dtype=torch.float64),\n",
       "  tensor(0.6217, device='cuda:2', dtype=torch.float64),\n",
       "  tensor(0.6690, device='cuda:2', dtype=torch.float64),\n",
       "  tensor(0.7128, device='cuda:2', dtype=torch.float64),\n",
       "  tensor(0.7908, device='cuda:2', dtype=torch.float64),\n",
       "  tensor(0.8144, device='cuda:2', dtype=torch.float64),\n",
       "  tensor(0.8109, device='cuda:2', dtype=torch.float64),\n",
       "  tensor(0.8180, device='cuda:2', dtype=torch.float64),\n",
       "  tensor(0.7305, device='cuda:2', dtype=torch.float64),\n",
       "  tensor(0.8109, device='cuda:2', dtype=torch.float64),\n",
       "  tensor(0.8487, device='cuda:2', dtype=torch.float64),\n",
       "  tensor(0.8570, device='cuda:2', dtype=torch.float64),\n",
       "  tensor(0.8983, device='cuda:2', dtype=torch.float64),\n",
       "  tensor(0.8641, device='cuda:2', dtype=torch.float64),\n",
       "  tensor(0.8499, device='cuda:2', dtype=torch.float64),\n",
       "  tensor(0.8842, device='cuda:2', dtype=torch.float64),\n",
       "  tensor(0.8392, device='cuda:2', dtype=torch.float64),\n",
       "  tensor(0.8369, device='cuda:2', dtype=torch.float64),\n",
       "  tensor(0.8499, device='cuda:2', dtype=torch.float64),\n",
       "  tensor(0.8735, device='cuda:2', dtype=torch.float64),\n",
       "  tensor(0.8783, device='cuda:2', dtype=torch.float64),\n",
       "  tensor(0.8783, device='cuda:2', dtype=torch.float64),\n",
       "  tensor(0.8582, device='cuda:2', dtype=torch.float64),\n",
       "  tensor(0.8747, device='cuda:2', dtype=torch.float64),\n",
       "  tensor(0.8913, device='cuda:2', dtype=torch.float64),\n",
       "  tensor(0.8771, device='cuda:2', dtype=torch.float64),\n",
       "  tensor(0.8570, device='cuda:2', dtype=torch.float64),\n",
       "  tensor(0.8735, device='cuda:2', dtype=torch.float64),\n",
       "  tensor(0.8783, device='cuda:2', dtype=torch.float64),\n",
       "  tensor(0.8889, device='cuda:2', dtype=torch.float64),\n",
       "  tensor(0.8794, device='cuda:2', dtype=torch.float64),\n",
       "  tensor(0.8747, device='cuda:2', dtype=torch.float64),\n",
       "  tensor(0.8853, device='cuda:2', dtype=torch.float64),\n",
       "  tensor(0.9137, device='cuda:2', dtype=torch.float64),\n",
       "  tensor(0.8641, device='cuda:2', dtype=torch.float64),\n",
       "  tensor(0.9031, device='cuda:2', dtype=torch.float64),\n",
       "  tensor(0.8877, device='cuda:2', dtype=torch.float64),\n",
       "  tensor(0.9043, device='cuda:2', dtype=torch.float64),\n",
       "  tensor(0.9113, device='cuda:2', dtype=torch.float64),\n",
       "  tensor(0.8794, device='cuda:2', dtype=torch.float64),\n",
       "  tensor(0.9113, device='cuda:2', dtype=torch.float64),\n",
       "  tensor(0.8995, device='cuda:2', dtype=torch.float64),\n",
       "  tensor(0.9149, device='cuda:2', dtype=torch.float64),\n",
       "  tensor(0.8913, device='cuda:2', dtype=torch.float64),\n",
       "  tensor(0.8771, device='cuda:2', dtype=torch.float64),\n",
       "  tensor(0.9031, device='cuda:2', dtype=torch.float64),\n",
       "  tensor(0.8050, device='cuda:2', dtype=torch.float64),\n",
       "  tensor(0.8972, device='cuda:2', dtype=torch.float64)],\n",
       " 'val val': [0.23522458628841608,\n",
       "  0.3747044917257683,\n",
       "  0.4373522458628841,\n",
       "  0.6217494089834515,\n",
       "  0.6690307328605201,\n",
       "  0.7127659574468085,\n",
       "  0.7907801418439716,\n",
       "  0.8144208037825059,\n",
       "  0.8108747044917257,\n",
       "  0.817966903073286,\n",
       "  0.7304964539007092,\n",
       "  0.8108747044917257,\n",
       "  0.8486997635933806,\n",
       "  0.8569739952718676,\n",
       "  0.8983451536643026,\n",
       "  0.8640661938534279,\n",
       "  0.8498817966903073,\n",
       "  0.884160756501182,\n",
       "  0.8392434988179669,\n",
       "  0.8368794326241135,\n",
       "  0.8498817966903073,\n",
       "  0.8735224586288416,\n",
       "  0.8782505910165485,\n",
       "  0.8782505910165485,\n",
       "  0.8581560283687943,\n",
       "  0.8747044917257683,\n",
       "  0.8912529550827423,\n",
       "  0.8770685579196217,\n",
       "  0.8569739952718676,\n",
       "  0.8735224586288416,\n",
       "  0.8782505910165485,\n",
       "  0.8888888888888888,\n",
       "  0.8794326241134751,\n",
       "  0.8747044917257683,\n",
       "  0.8853427895981087,\n",
       "  0.9137115839243498,\n",
       "  0.8640661938534279,\n",
       "  0.9030732860520094,\n",
       "  0.8877068557919622,\n",
       "  0.9042553191489362,\n",
       "  0.9113475177304964,\n",
       "  0.8794326241134751,\n",
       "  0.9113475177304964,\n",
       "  0.8995271867612293,\n",
       "  0.9148936170212766,\n",
       "  0.8912529550827423,\n",
       "  0.8770685579196217,\n",
       "  0.9030732860520094,\n",
       "  0.8049645390070922,\n",
       "  0.8971631205673759]}"
      ]
     },
     "execution_count": 52,
     "metadata": {},
     "output_type": "execute_result"
    }
   ],
   "source": [
    "result"
   ]
  },
  {
   "cell_type": "code",
   "execution_count": 53,
   "id": "74ba7508",
   "metadata": {},
   "outputs": [],
   "source": [
    "# l = []\n",
    "# for v in result['train acc']:\n",
    "#     l.append(v.item())\n",
    "# result['train acc']=l\n",
    "\n",
    "l = []\n",
    "for v in result['val acc']:\n",
    "    l.append(v.item())\n",
    "result['val acc']=l"
   ]
  },
  {
   "cell_type": "code",
   "execution_count": 54,
   "id": "26a4e399",
   "metadata": {},
   "outputs": [
    {
     "data": {
      "image/png": "[encoded data removed]",
      "text/plain": [
       "<Figure size 1000x400 with 2 Axes>"
      ]
     },
     "metadata": {},
     "output_type": "display_data"
    }
   ],
   "source": [
    "show_result(result)"
   ]
  },
  {
   "cell_type": "code",
   "execution_count": 55,
   "id": "b07782fe",
   "metadata": {},
   "outputs": [
    {
     "data": {
      "text/plain": [
       "dict_keys(['train loss', 'val loss', 'train acc', 'val acc', 'val val'])"
      ]
     },
     "execution_count": 55,
     "metadata": {},
     "output_type": "execute_result"
    }
   ],
   "source": [
    "result.keys()"
   ]
  },
  {
   "cell_type": "code",
   "execution_count": 56,
   "id": "b825b805",
   "metadata": {},
   "outputs": [],
   "source": [
    "import json\n",
    "\n",
    "# 딕셔너리를 JSON 파일로 저장\n",
    "with open('./Model/vgg16.json', 'w') as f:\n",
    "    json.dump(result, f)"
   ]
  }
 ],
 "metadata": {
  "kernelspec": {
   "display_name": "Python 3 (ipykernel)",
   "language": "python",
   "name": "python3"
  },
  "language_info": {
   "codemirror_mode": {
    "name": "ipython",
    "version": 3
   },
   "file_extension": ".py",
   "mimetype": "text/x-python",
   "name": "python",
   "nbconvert_exporter": "python",
   "pygments_lexer": "ipython3",
   "version": "3.8.14"
  }
 },
 "nbformat": 4,
 "nbformat_minor": 5
}
